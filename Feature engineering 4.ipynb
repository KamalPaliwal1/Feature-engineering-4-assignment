{
 "cells": [
  {
   "cell_type": "code",
   "execution_count": null,
   "metadata": {},
   "outputs": [],
   "source": [
    "# Q1. What is Data Encoding? How is it useful in Data Science?\n",
    "# ✅ Data Encoding is the process of converting categorical or textual data into a numerical format that can be used by machine learning models. \n",
    "# Since most ML algorithms require numerical inputs, encoding is necessary to transform categorical features into a format that models can understand.\n",
    "\n",
    "# ✅ Types of Encoding:\n",
    "\n",
    "# One-Hot Encoding: Creates binary columns for each category.\n",
    "# Label Encoding: Assigns integer values to categories.\n",
    "# Ordinal Encoding: Assigns ordered integers to categories.\n",
    "# Frequency Encoding: Replaces categories with their frequency.\n",
    "# Target Encoding: Maps categories to target mean.\n",
    "# ✅ Why is Encoding Useful?\n",
    "\n",
    "# Improves model performance by making data interpretable for algorithms.\n",
    "# Ensures that categorical data does not introduce bias if encoded appropriately.\n",
    "# Helps in feature engineering and creating meaningful feature sets.\n"
   ]
  },
  {
   "cell_type": "markdown",
   "metadata": {},
   "source": [
    "Q2. What is Nominal Encoding? Provide an example of how you would use it in a real-world scenario.\n",
    "✅ Nominal Encoding is used to encode categorical features without any order or rank. It usually involves:\n",
    "\n",
    "One-Hot Encoding or Label Encoding, depending on the situation.\n",
    "✅ Example: Consider a dataset with a City column having the values:\n",
    "\n",
    "['Delhi', 'Mumbai', 'Chennai']\n",
    "One-Hot Encoding Result:\n",
    "\n",
    "\n",
    "Delhi   Mumbai   Chennai\n",
    "  1       0         0\n",
    "  0       1         0\n",
    "  0       0         1\n",
    "Use Case:\n",
    "\n",
    "Encoding customer city information for a marketing model where there is no inherent order."
   ]
  },
  {
   "cell_type": "markdown",
   "metadata": {},
   "source": [
    "Q3. In what situations is nominal encoding preferred over one-hot encoding? Provide a practical example.\n",
    "✅ Nominal Encoding (Label Encoding) is preferred over One-Hot Encoding when:\n",
    "\n",
    "The categorical variable has many unique values.\n",
    "One-Hot Encoding creates a sparse matrix with too many columns, increasing computational complexity.\n",
    "The model is not sensitive to the order of categories.\n",
    "\n",
    "\n",
    "✅ Example: Consider a dataset with a Product_ID column containing 1000 unique product codes.\n",
    "\n",
    "One-Hot Encoding would generate 1000 columns.\n",
    "Label Encoding would simply assign integers, reducing memory usage."
   ]
  },
  {
   "cell_type": "markdown",
   "metadata": {},
   "source": [
    "4. Suppose you have a dataset containing categorical data with 5 unique values. Which encoding technique would you use to transform this data into a format suitable for machine learning algorithms? Explain why you made this choice.\n",
    "✅ Best Encoding Technique:\n",
    "\n",
    "If the feature is nominal (no order): Use One-Hot Encoding to prevent ordinal relationships.\n",
    "If the feature is ordinal (has order): Use Ordinal Encoding to preserve order.\n",
    "✅ Choice:\n",
    "\n",
    "For 5 unique categories, One-Hot Encoding is generally suitable as it creates a small number of columns.\n",
    "Label Encoding can be considered if the model can handle categorical integers.\n",
    "✅ Reason:\n",
    "\n",
    "One-Hot Encoding prevents introducing ordinal relationships where they don’t exist.\n",
    "It is preferred for low-cardinality categorical features."
   ]
  },
  {
   "cell_type": "markdown",
   "metadata": {},
   "source": [
    "Q5. In a machine learning project, you have a dataset with 1000 rows and 5 columns. \n",
    "Two of the columns are categorical, and the remaining three columns are numerical. If you were to use nominal encoding to transform the categorical data, how many new columns would be created? Show your calculations.\n",
    "\n",
    "✅ Assumptions:\n",
    "\n",
    "Categorical Column 1: 3 unique values\n",
    "Categorical Column 2: 4 unique values\n",
    "\n",
    "✅ Using One-Hot Encoding:\n",
    "\n",
    "Column 1 → 3 columns\n",
    "Column 2 → 4 columns\n",
    "✅ Total New Columns:\n",
    "\n",
    "New columns\n",
    "=\n",
    "3+4= 7\n",
    "New columns=3+4=7\n",
    "✅ Final Shape:\n",
    "\n",
    "Original Columns: 5\n",
    "After Encoding: \n",
    "\n",
    "3+4+3=10 columns in total."
   ]
  },
  {
   "cell_type": "markdown",
   "metadata": {},
   "source": [
    "Q6. You are working with a dataset containing information about different types of animals, including their species, habitat, and diet. Which encoding technique would you use to transform the categorical data into a format suitable for machine learning algorithms? Justify your answer.\n",
    "✅ Recommended Encoding:\n",
    "\n",
    "Species: One-Hot Encoding (nominal, unordered)\n",
    "Habitat: One-Hot Encoding (nominal, unordered)\n",
    "Diet: Label Encoding or One-Hot Encoding (depending on unique values)\n",
    "✅ Justification:\n",
    "\n",
    "One-Hot Encoding ensures that no false order is introduced for unordered features.\n",
    "If the dataset contains a large number of species or habitats, Label Encoding can be used to reduce memory usage."
   ]
  },
  {
   "cell_type": "markdown",
   "metadata": {},
   "source": [
    "Q7. You are working on a project that involves predicting customer churn for a telecommunications company. You have a dataset with 5 features, including the customer's gender, age, contract type, monthly charges, and tenure. Which encoding technique(s) would you use to transform the categorical data into numerical data? Provide a step-by-step explanation of how you would implement the encoding.\n",
    "\n",
    "\n",
    "✅ Step-by-Step Encoding:\n",
    "\n",
    "Identify Categorical Columns:\n",
    "\n",
    "gender: Nominal (Male, Female)\n",
    "contract_type: Nominal (Monthly, Yearly, Two-Year)\n",
    "\n",
    "Choose Encoding Techniques:\n",
    "\n",
    "gender → One-Hot Encoding (2 columns)\n",
    "contract_type → One-Hot Encoding (3 columns)\n",
    "\n",
    "Apply One-Hot Encoding:\n",
    "\n",
    "import pandas as pd\n",
    "from sklearn.preprocessing import OneHotEncoder\n",
    "\n",
    "# Sample data\n",
    "data = {'gender': ['Male', 'Female', 'Male'],\n",
    "        'contract_type': ['Monthly', 'Yearly', 'Two-Year'],\n",
    "        'age': [34, 28, 45],\n",
    "        'monthly_charges': [29.99, 49.99, 39.99],\n",
    "        'tenure': [12, 24, 36]}\n",
    "\n",
    "df = pd.DataFrame(data)\n",
    "\n",
    "# Apply One-Hot Encoding\n",
    "encoded_data = pd.get_dummies(df, columns=['gender', 'contract_type'])\n",
    "print(encoded_data)\n",
    "\n",
    "\n",
    "Merge Encoded Features:\n",
    "Add new encoded columns to the original dataset.\n",
    "Resulting Dataset:\n",
    "Numerical and categorical features are ready for the model.\n",
    "✅ Why One-Hot Encoding?\n",
    "\n",
    "Prevents introducing order to categorical features.\n",
    "Handles nominal data effectively, ensuring that each category is treated independently.\n"
   ]
  },
  {
   "cell_type": "markdown",
   "metadata": {},
   "source": []
  }
 ],
 "metadata": {
  "kernelspec": {
   "display_name": "Python 3",
   "language": "python",
   "name": "python3"
  },
  "language_info": {
   "codemirror_mode": {
    "name": "ipython",
    "version": 3
   },
   "file_extension": ".py",
   "mimetype": "text/x-python",
   "name": "python",
   "nbconvert_exporter": "python",
   "pygments_lexer": "ipython3",
   "version": "3.13.2"
  }
 },
 "nbformat": 4,
 "nbformat_minor": 2
}
